{
 "cells": [
  {
   "cell_type": "code",
   "execution_count": 1,
   "metadata": {},
   "outputs": [],
   "source": [
    "#ALL OF MY NOTES / DISCOVERY"
   ]
  },
  {
   "cell_type": "code",
   "execution_count": 2,
   "metadata": {},
   "outputs": [],
   "source": [
    "#Importing the usual packages\n",
    "import numpy as np\n",
    "import pandas as pd\n",
    "import matplotlib.pyplot as plt\n",
    "import seaborn as sns\n",
    "import statistics"
   ]
  },
  {
   "cell_type": "code",
   "execution_count": 3,
   "metadata": {},
   "outputs": [],
   "source": [
    "#Reading in the CSV for the monthly PE ratios of the S&P 500\n",
    "SPdf = pd.read_csv(\"C:\\\\Users\\\\Philip\\\\Documents\\\\SP500_PE_RATIO_MONTH.csv\")\n"
   ]
  },
  {
   "cell_type": "code",
   "execution_count": 4,
   "metadata": {},
   "outputs": [
    {
     "data": {
      "text/html": [
       "<div>\n",
       "<style scoped>\n",
       "    .dataframe tbody tr th:only-of-type {\n",
       "        vertical-align: middle;\n",
       "    }\n",
       "\n",
       "    .dataframe tbody tr th {\n",
       "        vertical-align: top;\n",
       "    }\n",
       "\n",
       "    .dataframe thead th {\n",
       "        text-align: right;\n",
       "    }\n",
       "</style>\n",
       "<table border=\"1\" class=\"dataframe\">\n",
       "  <thead>\n",
       "    <tr style=\"text-align: right;\">\n",
       "      <th></th>\n",
       "      <th>Date</th>\n",
       "      <th>Value</th>\n",
       "    </tr>\n",
       "  </thead>\n",
       "  <tbody>\n",
       "    <tr>\n",
       "      <th>0</th>\n",
       "      <td>2021-04-01</td>\n",
       "      <td>40.93</td>\n",
       "    </tr>\n",
       "    <tr>\n",
       "      <th>1</th>\n",
       "      <td>2021-03-31</td>\n",
       "      <td>40.45</td>\n",
       "    </tr>\n",
       "    <tr>\n",
       "      <th>2</th>\n",
       "      <td>2021-03-01</td>\n",
       "      <td>39.40</td>\n",
       "    </tr>\n",
       "    <tr>\n",
       "      <th>3</th>\n",
       "      <td>2021-02-01</td>\n",
       "      <td>39.54</td>\n",
       "    </tr>\n",
       "    <tr>\n",
       "      <th>4</th>\n",
       "      <td>2021-01-01</td>\n",
       "      <td>38.63</td>\n",
       "    </tr>\n",
       "  </tbody>\n",
       "</table>\n",
       "</div>"
      ],
      "text/plain": [
       "         Date  Value\n",
       "0  2021-04-01  40.93\n",
       "1  2021-03-31  40.45\n",
       "2  2021-03-01  39.40\n",
       "3  2021-02-01  39.54\n",
       "4  2021-01-01  38.63"
      ]
     },
     "execution_count": 4,
     "metadata": {},
     "output_type": "execute_result"
    }
   ],
   "source": [
    "#Printing the head of the dataset to get an understanding of how it looks and the column names\n",
    "SPdf.head()"
   ]
  },
  {
   "cell_type": "code",
   "execution_count": 5,
   "metadata": {},
   "outputs": [
    {
     "data": {
      "text/html": [
       "<div>\n",
       "<style scoped>\n",
       "    .dataframe tbody tr th:only-of-type {\n",
       "        vertical-align: middle;\n",
       "    }\n",
       "\n",
       "    .dataframe tbody tr th {\n",
       "        vertical-align: top;\n",
       "    }\n",
       "\n",
       "    .dataframe thead th {\n",
       "        text-align: right;\n",
       "    }\n",
       "</style>\n",
       "<table border=\"1\" class=\"dataframe\">\n",
       "  <thead>\n",
       "    <tr style=\"text-align: right;\">\n",
       "      <th></th>\n",
       "      <th>Value</th>\n",
       "    </tr>\n",
       "  </thead>\n",
       "  <tbody>\n",
       "    <tr>\n",
       "      <th>count</th>\n",
       "      <td>1817.000000</td>\n",
       "    </tr>\n",
       "    <tr>\n",
       "      <th>mean</th>\n",
       "      <td>16.004161</td>\n",
       "    </tr>\n",
       "    <tr>\n",
       "      <th>std</th>\n",
       "      <td>8.561186</td>\n",
       "    </tr>\n",
       "    <tr>\n",
       "      <th>min</th>\n",
       "      <td>5.310000</td>\n",
       "    </tr>\n",
       "    <tr>\n",
       "      <th>25%</th>\n",
       "      <td>11.500000</td>\n",
       "    </tr>\n",
       "    <tr>\n",
       "      <th>50%</th>\n",
       "      <td>14.890000</td>\n",
       "    </tr>\n",
       "    <tr>\n",
       "      <th>75%</th>\n",
       "      <td>18.250000</td>\n",
       "    </tr>\n",
       "    <tr>\n",
       "      <th>max</th>\n",
       "      <td>123.730000</td>\n",
       "    </tr>\n",
       "  </tbody>\n",
       "</table>\n",
       "</div>"
      ],
      "text/plain": [
       "             Value\n",
       "count  1817.000000\n",
       "mean     16.004161\n",
       "std       8.561186\n",
       "min       5.310000\n",
       "25%      11.500000\n",
       "50%      14.890000\n",
       "75%      18.250000\n",
       "max     123.730000"
      ]
     },
     "execution_count": 5,
     "metadata": {},
     "output_type": "execute_result"
    }
   ],
   "source": [
    "#Further observations of the data\n",
    "SPdf.describe()"
   ]
  },
  {
   "cell_type": "code",
   "execution_count": 6,
   "metadata": {},
   "outputs": [
    {
     "data": {
      "text/html": [
       "<div>\n",
       "<style scoped>\n",
       "    .dataframe tbody tr th:only-of-type {\n",
       "        vertical-align: middle;\n",
       "    }\n",
       "\n",
       "    .dataframe tbody tr th {\n",
       "        vertical-align: top;\n",
       "    }\n",
       "\n",
       "    .dataframe thead th {\n",
       "        text-align: right;\n",
       "    }\n",
       "</style>\n",
       "<table border=\"1\" class=\"dataframe\">\n",
       "  <thead>\n",
       "    <tr style=\"text-align: right;\">\n",
       "      <th></th>\n",
       "      <th>Value</th>\n",
       "    </tr>\n",
       "  </thead>\n",
       "  <tbody>\n",
       "    <tr>\n",
       "      <th>count</th>\n",
       "      <td>1215.000000</td>\n",
       "    </tr>\n",
       "    <tr>\n",
       "      <th>mean</th>\n",
       "      <td>17.135276</td>\n",
       "    </tr>\n",
       "    <tr>\n",
       "      <th>std</th>\n",
       "      <td>9.971006</td>\n",
       "    </tr>\n",
       "    <tr>\n",
       "      <th>min</th>\n",
       "      <td>5.820000</td>\n",
       "    </tr>\n",
       "    <tr>\n",
       "      <th>25%</th>\n",
       "      <td>11.480000</td>\n",
       "    </tr>\n",
       "    <tr>\n",
       "      <th>50%</th>\n",
       "      <td>16.280000</td>\n",
       "    </tr>\n",
       "    <tr>\n",
       "      <th>75%</th>\n",
       "      <td>19.380000</td>\n",
       "    </tr>\n",
       "    <tr>\n",
       "      <th>max</th>\n",
       "      <td>123.730000</td>\n",
       "    </tr>\n",
       "  </tbody>\n",
       "</table>\n",
       "</div>"
      ],
      "text/plain": [
       "             Value\n",
       "count  1215.000000\n",
       "mean     17.135276\n",
       "std       9.971006\n",
       "min       5.820000\n",
       "25%      11.480000\n",
       "50%      16.280000\n",
       "75%      19.380000\n",
       "max     123.730000"
      ]
     },
     "execution_count": 6,
     "metadata": {},
     "output_type": "execute_result"
    }
   ],
   "source": [
    "#Describe data of last 100 years\n",
    "SPdf[(SPdf['Date'] > '1921-01-01') & (SPdf['Date'] < '2021-04-01')].describe()"
   ]
  },
  {
   "cell_type": "code",
   "execution_count": 7,
   "metadata": {},
   "outputs": [
    {
     "data": {
      "text/plain": [
       "99.4209618473095"
      ]
     },
     "execution_count": 7,
     "metadata": {},
     "output_type": "execute_result"
    }
   ],
   "source": [
    "#Calculate variance\n",
    "statistics.variance(SPdf['Value'][(SPdf['Date'] > '1921-01-01') & (SPdf['Date'] < '2021-04-01')])"
   ]
  },
  {
   "cell_type": "code",
   "execution_count": 8,
   "metadata": {},
   "outputs": [
    {
     "name": "stdout",
     "output_type": "stream",
     "text": [
      "           Date   Value\n",
      "0    2021-04-01   40.93\n",
      "1    2021-03-31   40.45\n",
      "2    2021-03-01   39.40\n",
      "3    2021-02-01   39.54\n",
      "4    2021-01-01   38.63\n",
      "5    2020-12-31   37.85\n",
      "6    2020-12-01   37.62\n",
      "7    2020-11-30   36.66\n",
      "8    2020-11-01   36.13\n",
      "9    2020-10-01   34.81\n",
      "11   2020-09-01   34.27\n",
      "12   2020-08-31   30.09\n",
      "13   2020-08-01   34.41\n",
      "15   2020-07-01   32.44\n",
      "17   2020-06-01   31.29\n",
      "151  2009-10-01   42.12\n",
      "152  2009-09-01   83.30\n",
      "153  2009-08-01   92.95\n",
      "154  2009-07-01  101.87\n",
      "155  2009-06-01  123.32\n",
      "156  2009-05-01  123.73\n",
      "157  2009-04-01  119.85\n",
      "158  2009-03-01  110.37\n",
      "159  2009-02-01   84.46\n",
      "160  2009-01-01   70.91\n",
      "161  2008-12-01   58.98\n",
      "162  2008-11-01   34.99\n",
      "232  2003-01-01   31.43\n",
      "233  2002-12-01   32.59\n",
      "234  2002-11-01   32.03\n",
      "237  2002-08-01   31.53\n",
      "238  2002-07-01   32.46\n",
      "239  2002-06-01   37.92\n",
      "240  2002-05-01   41.41\n",
      "241  2002-04-01   43.81\n",
      "242  2002-03-01   46.71\n",
      "243  2002-02-01   44.57\n",
      "244  2002-01-01   46.17\n",
      "245  2001-12-01   46.37\n",
      "246  2001-11-01   43.62\n",
      "247  2001-10-01   39.72\n",
      "248  2001-09-01   36.90\n",
      "249  2001-08-01   37.85\n",
      "250  2001-07-01   35.46\n",
      "251  2001-06-01   33.67\n",
      "252  2001-05-01   32.02\n",
      "273  1999-08-01   30.89\n",
      "274  1999-07-01   32.88\n",
      "275  1999-06-01   32.24\n",
      "276  1999-05-01   33.19\n",
      "277  1999-04-01   34.00\n",
      "278  1999-03-01   33.39\n",
      "279  1999-02-01   32.67\n",
      "280  1999-01-01   32.92\n",
      "281  1998-12-01   31.56\n",
      "282  1998-11-01   30.25\n"
     ]
    }
   ],
   "source": [
    "print(SPdf[SPdf['Value'] > 30])"
   ]
  },
  {
   "cell_type": "code",
   "execution_count": 9,
   "metadata": {},
   "outputs": [
    {
     "name": "stdout",
     "output_type": "stream",
     "text": [
      "Value    21.844865\n",
      "dtype: float64\n"
     ]
    }
   ],
   "source": [
    "#Looking at the mean of PE ratio for the last 10 years\n",
    "print(np.mean(SPdf[SPdf['Date'] > '2010-01-01']))"
   ]
  },
  {
   "cell_type": "code",
   "execution_count": 10,
   "metadata": {},
   "outputs": [
    {
     "data": {
      "text/plain": [
       "<AxesSubplot:title={'center':'S&P 500 Monthly PE Ratio'}, xlabel='Date'>"
      ]
     },
     "execution_count": 10,
     "metadata": {},
     "output_type": "execute_result"
    },
    {
     "data": {
      "image/png": "[encoded data removed]",
      "text/plain": [
       "<Figure size 432x288 with 1 Axes>"
      ]
     },
     "metadata": {
      "needs_background": "light"
     },
     "output_type": "display_data"
    }
   ],
   "source": [
    "#Plotting the dataset and noticed it's reversed!!! Newest entries are at the top \n",
    "SPdf.plot(x = 'Date', y = 'Value', kind = 'line', title = 'S&P 500 Monthly PE Ratio')"
   ]
  },
  {
   "cell_type": "code",
   "execution_count": 11,
   "metadata": {},
   "outputs": [
    {
     "data": {
      "text/plain": [
       "<AxesSubplot:title={'center':'S&P 500 Monthly PE Ratio'}, xlabel='Date'>"
      ]
     },
     "execution_count": 11,
     "metadata": {},
     "output_type": "execute_result"
    },
    {
     "data": {
      "image/png": "[encoded data removed]",
      "text/plain": [
       "<Figure size 432x288 with 1 Axes>"
      ]
     },
     "metadata": {
      "needs_background": "light"
     },
     "output_type": "display_data"
    }
   ],
   "source": [
    "#Found a solution thast flips the data smoothly\n",
    "SPdf[::-1].plot(x = 'Date', y = 'Value', kind = 'line', title = 'S&P 500 Monthly PE Ratio')"
   ]
  },
  {
   "cell_type": "code",
   "execution_count": 12,
   "metadata": {},
   "outputs": [],
   "source": [
    "#Permanently flip the data\n",
    "SPdf = SPdf[::-1]"
   ]
  },
  {
   "cell_type": "code",
   "execution_count": 13,
   "metadata": {
    "scrolled": true
   },
   "outputs": [
    {
     "data": {
      "text/html": [
       "<div>\n",
       "<style scoped>\n",
       "    .dataframe tbody tr th:only-of-type {\n",
       "        vertical-align: middle;\n",
       "    }\n",
       "\n",
       "    .dataframe tbody tr th {\n",
       "        vertical-align: top;\n",
       "    }\n",
       "\n",
       "    .dataframe thead th {\n",
       "        text-align: right;\n",
       "    }\n",
       "</style>\n",
       "<table border=\"1\" class=\"dataframe\">\n",
       "  <thead>\n",
       "    <tr style=\"text-align: right;\">\n",
       "      <th></th>\n",
       "      <th>Date</th>\n",
       "      <th>Value</th>\n",
       "    </tr>\n",
       "  </thead>\n",
       "  <tbody>\n",
       "    <tr>\n",
       "      <th>1816</th>\n",
       "      <td>1871-01-01</td>\n",
       "      <td>11.10</td>\n",
       "    </tr>\n",
       "    <tr>\n",
       "      <th>1815</th>\n",
       "      <td>1871-02-01</td>\n",
       "      <td>11.25</td>\n",
       "    </tr>\n",
       "    <tr>\n",
       "      <th>1814</th>\n",
       "      <td>1871-03-01</td>\n",
       "      <td>11.52</td>\n",
       "    </tr>\n",
       "    <tr>\n",
       "      <th>1813</th>\n",
       "      <td>1871-04-01</td>\n",
       "      <td>11.85</td>\n",
       "    </tr>\n",
       "    <tr>\n",
       "      <th>1812</th>\n",
       "      <td>1871-05-01</td>\n",
       "      <td>12.15</td>\n",
       "    </tr>\n",
       "  </tbody>\n",
       "</table>\n",
       "</div>"
      ],
      "text/plain": [
       "            Date  Value\n",
       "1816  1871-01-01  11.10\n",
       "1815  1871-02-01  11.25\n",
       "1814  1871-03-01  11.52\n",
       "1813  1871-04-01  11.85\n",
       "1812  1871-05-01  12.15"
      ]
     },
     "execution_count": 13,
     "metadata": {},
     "output_type": "execute_result"
    }
   ],
   "source": [
    "#Check that everything is chronological\n",
    "SPdf.head()"
   ]
  },
  {
   "cell_type": "code",
   "execution_count": 14,
   "metadata": {},
   "outputs": [],
   "source": [
    "date = SPdf['Date']\n",
    "value = SPdf['Value']"
   ]
  },
  {
   "cell_type": "code",
   "execution_count": 15,
   "metadata": {
    "scrolled": true
   },
   "outputs": [
    {
     "data": {
      "text/plain": [
       "<AxesSubplot:title={'center':'1929 (Great Depression)'}, xlabel='Date'>"
      ]
     },
     "execution_count": 15,
     "metadata": {},
     "output_type": "execute_result"
    },
    {
     "data": {
      "image/png": "[encoded data removed]",
      "text/plain": [
       "<Figure size 432x288 with 1 Axes>"
      ]
     },
     "metadata": {
      "needs_background": "light"
     },
     "output_type": "display_data"
    }
   ],
   "source": [
    "#1929 CRASH\n",
    "SPdf[(SPdf['Date'] > '1926-01-01') & (SPdf['Date'] < '1931-01-01')].plot(x = 'Date', y = 'Value', kind = 'line', title = '1929 (Great Depression)')"
   ]
  },
  {
   "cell_type": "code",
   "execution_count": 16,
   "metadata": {},
   "outputs": [
    {
     "name": "stdout",
     "output_type": "stream",
     "text": [
      "MIN Before Crash: \n",
      " Date     1926-02-01\n",
      "Value          9.21\n",
      "dtype: object\n",
      "MAX Before Crash: \n",
      " Date     1929-12-01\n",
      "Value         20.17\n",
      "dtype: object\n",
      "MIN AFTER Crash: \n",
      " Date     1930-01-01\n",
      "Value         13.94\n",
      "dtype: object\n"
     ]
    }
   ],
   "source": [
    "#Observing the Min PE ratio before crash, Max before the crash, and the Min after the crash\n",
    "print( 'MIN Before Crash: \\n', SPdf[(SPdf['Date'] > '1926-01-01') & (SPdf['Date'] < '1931-01-01')].min())\n",
    "print('MAX Before Crash: \\n' , SPdf[(SPdf['Date'] > '1926-02-01') & (SPdf['Date'] < '1930-01-01')].max())\n",
    "print('MIN AFTER Crash: \\n', SPdf[(SPdf['Date'] > '1929-12-01') & (SPdf['Date'] < '1931-01-01')].min())\n"
   ]
  },
  {
   "cell_type": "code",
   "execution_count": 17,
   "metadata": {},
   "outputs": [
    {
     "data": {
      "text/plain": [
       "<AxesSubplot:title={'center':'1989 (Black Monday)'}, xlabel='Date'>"
      ]
     },
     "execution_count": 17,
     "metadata": {},
     "output_type": "execute_result"
    },
    {
     "data": {
      "image/png": "[encoded data removed]",
      "text/plain": [
       "<Figure size 432x288 with 1 Axes>"
      ]
     },
     "metadata": {
      "needs_background": "light"
     },
     "output_type": "display_data"
    }
   ],
   "source": [
    "#1989 CRASH\n",
    "SPdf[(SPdf['Date'] > '1984-01-01') & (SPdf['Date'] < '1991-01-01')].plot(x = 'Date', y = 'Value', kind = 'line', title = '1989 (Black Monday)')"
   ]
  },
  {
   "cell_type": "code",
   "execution_count": 18,
   "metadata": {},
   "outputs": [
    {
     "name": "stdout",
     "output_type": "stream",
     "text": [
      "MIN Before Crash: \n",
      " Date     1984-02-01\n",
      "Value          9.26\n",
      "dtype: object\n",
      "MAX Before Crash: \n",
      " Date     1989-12-01\n",
      "Value         21.42\n",
      "dtype: object\n",
      "MIN AFTER Crash: \n",
      " Date     1990-01-01\n",
      "Value         14.21\n",
      "dtype: object\n"
     ]
    }
   ],
   "source": [
    "#Observing the Min PE ratio before crash, Max before the crash, and the Min after the crash\n",
    "print( 'MIN Before Crash: \\n', SPdf[(SPdf['Date'] > '1984-01-01') & (SPdf['Date'] < '1991-01-01')].min())\n",
    "print('MAX Before Crash: \\n' , SPdf[(SPdf['Date'] > '1984-01-01') & (SPdf['Date'] < '1990-01-01')].max())\n",
    "print('MIN AFTER Crash: \\n', SPdf[(SPdf['Date'] > '1989-12-01') & (SPdf['Date'] < '1991-01-01')].min())\n"
   ]
  },
  {
   "cell_type": "markdown",
   "metadata": {},
   "source": []
  },
  {
   "cell_type": "code",
   "execution_count": 19,
   "metadata": {
    "scrolled": true
   },
   "outputs": [
    {
     "data": {
      "text/plain": [
       "<AxesSubplot:title={'center':'2001 (Dot Com Bubble)'}, xlabel='Date'>"
      ]
     },
     "execution_count": 19,
     "metadata": {},
     "output_type": "execute_result"
    },
    {
     "data": {
      "image/png": "[encoded data removed]",
      "text/plain": [
       "<Figure size 432x288 with 1 Axes>"
      ]
     },
     "metadata": {
      "needs_background": "light"
     },
     "output_type": "display_data"
    }
   ],
   "source": [
    "#2001 Dot Com Bubble CRASH\n",
    "SPdf[(SPdf['Date'] > '1999-01-01') & (SPdf['Date'] < '2008-01-01')].plot(x = 'Date', y = 'Value', kind = 'line', title = '2001 (Dot Com Bubble)')"
   ]
  },
  {
   "cell_type": "code",
   "execution_count": 20,
   "metadata": {},
   "outputs": [
    {
     "name": "stdout",
     "output_type": "stream",
     "text": [
      "MIN Before Crash: \n",
      " Date     1999-02-01\n",
      "Value          26.5\n",
      "dtype: object\n",
      "MAX Before Crash: \n",
      " Date     2002-12-01\n",
      "Value         46.71\n",
      "dtype: object\n",
      "MIN AFTER Crash: \n",
      " Date     2003-01-01\n",
      "Value         16.61\n",
      "dtype: object\n"
     ]
    }
   ],
   "source": [
    "#Observing the Min PE ratio before crash, Max before the crash, and the Min after the crash\n",
    "print( 'MIN Before Crash: \\n', SPdf[(SPdf['Date'] > '1999-01-01') & (SPdf['Date'] < '2001-01-01')].min())\n",
    "print('MAX Before Crash: \\n' , SPdf[(SPdf['Date'] > '1999-01-01') & (SPdf['Date'] < '2003-01-01')].max())\n",
    "print('MIN AFTER Crash: \\n', SPdf[(SPdf['Date'] > '2002-12-01') & (SPdf['Date'] < '2008-01-01')].min())"
   ]
  },
  {
   "cell_type": "code",
   "execution_count": 21,
   "metadata": {},
   "outputs": [
    {
     "data": {
      "text/plain": [
       "<AxesSubplot:title={'center':'2008 (The Great Recession)'}, xlabel='Date'>"
      ]
     },
     "execution_count": 21,
     "metadata": {},
     "output_type": "execute_result"
    },
    {
     "data": {
      "image/png": "[encoded data removed]",
      "text/plain": [
       "<Figure size 432x288 with 1 Axes>"
      ]
     },
     "metadata": {
      "needs_background": "light"
     },
     "output_type": "display_data"
    }
   ],
   "source": [
    "#2008 CRASH (The Great Recession)\n",
    "SPdf[(SPdf['Date'] > '2005-01-01') & (SPdf['Date'] < '2012-01-01')].plot(x = 'Date', y = 'Value', kind = 'line', title = '2008 (The Great Recession)')"
   ]
  },
  {
   "cell_type": "code",
   "execution_count": 22,
   "metadata": {},
   "outputs": [
    {
     "name": "stdout",
     "output_type": "stream",
     "text": [
      "MIN Before Crash: \n",
      " Date     2005-02-01\n",
      "Value         16.61\n",
      "dtype: object\n",
      "MAX Before Crash: \n",
      " Date     2009-12-01\n",
      "Value        123.73\n",
      "dtype: object\n",
      "MIN AFTER Crash: \n",
      " Date     2010-01-01\n",
      "Value          13.5\n",
      "dtype: object\n"
     ]
    }
   ],
   "source": [
    "#Observing the Min PE ratio before crash, Max before the crash, and the Min after the crash\n",
    "print( 'MIN Before Crash: \\n', SPdf[(SPdf['Date'] > '2005-01-01') & (SPdf['Date'] < '2010-01-01')].min())\n",
    "print('MAX Before Crash: \\n' , SPdf[(SPdf['Date'] > '2005-02-01') & (SPdf['Date'] < '2010-01-01')].max())\n",
    "print('MIN AFTER Crash: \\n', SPdf[(SPdf['Date'] > '2009-12-01') & (SPdf['Date'] < '2012-01-01')].min())"
   ]
  },
  {
   "cell_type": "code",
   "execution_count": 23,
   "metadata": {},
   "outputs": [
    {
     "data": {
      "image/png": "[encoded data removed]",
      "text/plain": [
       "<Figure size 432x288 with 1 Axes>"
      ]
     },
     "metadata": {
      "needs_background": "light"
     },
     "output_type": "display_data"
    }
   ],
   "source": [
    "#PE Ratio over the last 5 years\n",
    "x = SPdf[(SPdf['Date'] > '2016-01-01') & (SPdf['Date'] < '2021-04-01')].plot(x = 'Date', y = 'Value', kind = 'line', title = '2016 to 2021')\n"
   ]
  },
  {
   "cell_type": "code",
   "execution_count": 24,
   "metadata": {
    "scrolled": true
   },
   "outputs": [
    {
     "data": {
      "text/html": [
       "<div>\n",
       "<style scoped>\n",
       "    .dataframe tbody tr th:only-of-type {\n",
       "        vertical-align: middle;\n",
       "    }\n",
       "\n",
       "    .dataframe tbody tr th {\n",
       "        vertical-align: top;\n",
       "    }\n",
       "\n",
       "    .dataframe thead th {\n",
       "        text-align: right;\n",
       "    }\n",
       "</style>\n",
       "<table border=\"1\" class=\"dataframe\">\n",
       "  <thead>\n",
       "    <tr style=\"text-align: right;\">\n",
       "      <th></th>\n",
       "      <th>Value</th>\n",
       "    </tr>\n",
       "  </thead>\n",
       "  <tbody>\n",
       "    <tr>\n",
       "      <th>count</th>\n",
       "      <td>75.000000</td>\n",
       "    </tr>\n",
       "    <tr>\n",
       "      <th>mean</th>\n",
       "      <td>25.488667</td>\n",
       "    </tr>\n",
       "    <tr>\n",
       "      <th>std</th>\n",
       "      <td>5.494274</td>\n",
       "    </tr>\n",
       "    <tr>\n",
       "      <th>min</th>\n",
       "      <td>19.390000</td>\n",
       "    </tr>\n",
       "    <tr>\n",
       "      <th>25%</th>\n",
       "      <td>22.305000</td>\n",
       "    </tr>\n",
       "    <tr>\n",
       "      <th>50%</th>\n",
       "      <td>23.570000</td>\n",
       "    </tr>\n",
       "    <tr>\n",
       "      <th>75%</th>\n",
       "      <td>24.970000</td>\n",
       "    </tr>\n",
       "    <tr>\n",
       "      <th>max</th>\n",
       "      <td>40.450000</td>\n",
       "    </tr>\n",
       "  </tbody>\n",
       "</table>\n",
       "</div>"
      ],
      "text/plain": [
       "           Value\n",
       "count  75.000000\n",
       "mean   25.488667\n",
       "std     5.494274\n",
       "min    19.390000\n",
       "25%    22.305000\n",
       "50%    23.570000\n",
       "75%    24.970000\n",
       "max    40.450000"
      ]
     },
     "execution_count": 24,
     "metadata": {},
     "output_type": "execute_result"
    }
   ],
   "source": [
    "SPdf[(SPdf['Date'] > '2016-01-01') & (SPdf['Date'] < '2021-04-01')].describe()"
   ]
  },
  {
   "cell_type": "code",
   "execution_count": 32,
   "metadata": {
    "scrolled": true
   },
   "outputs": [
    {
     "data": {
      "text/plain": [
       "<AxesSubplot:title={'center':'Covid-19 (March 2020)'}, xlabel='Date'>"
      ]
     },
     "execution_count": 32,
     "metadata": {},
     "output_type": "execute_result"
    },
    {
     "data": {
      "image/png": "[encoded data removed]",
      "text/plain": [
       "<Figure size 432x288 with 1 Axes>"
      ]
     },
     "metadata": {
      "needs_background": "light"
     },
     "output_type": "display_data"
    }
   ],
   "source": [
    "SPdf[(SPdf['Date'] > '2020-01-01') & (SPdf['Date'] < '2020-05-01')].plot(x = 'Date', y = 'Value', kind = 'line', title = 'Covid-19 (March 2020)') "
   ]
  },
  {
   "cell_type": "code",
   "execution_count": 35,
   "metadata": {},
   "outputs": [
    {
     "name": "stdout",
     "output_type": "stream",
     "text": [
      "MAX Before Crash: \n",
      " Date     2020-02-28\n",
      "Value         26.42\n",
      "dtype: object\n",
      "MIN After Crash: \n",
      " Date     2020-02-28\n",
      "Value         19.45\n",
      "dtype: object\n",
      "MIN AFTER Crash: \n",
      " Date     2020-04-30\n",
      "Value         24.97\n",
      "dtype: object\n"
     ]
    }
   ],
   "source": [
    "print( 'MAX Before Crash: \\n', SPdf[(SPdf['Date'] > '2020-01-01') & (SPdf['Date'] < '2020-03-01')].max())\n",
    "print('MIN After Crash: \\n' , SPdf[(SPdf['Date'] > '2020-02-01') & (SPdf['Date'] < '2020-05-01')].min())\n",
    "print('MIN AFTER Crash: \\n', SPdf[(SPdf['Date'] > '2020-03-01') & (SPdf['Date'] < '2020-05-01')].max())"
   ]
  }
 ],
 "metadata": {
  "kernelspec": {
   "display_name": "Python 3",
   "language": "python",
   "name": "python3"
  },
  "language_info": {
   "codemirror_mode": {
    "name": "ipython",
    "version": 3
   },
   "file_extension": ".py",
   "mimetype": "text/x-python",
   "name": "python",
   "nbconvert_exporter": "python",
   "pygments_lexer": "ipython3",
   "version": "3.8.5"
  }
 },
 "nbformat": 4,
 "nbformat_minor": 4
}
